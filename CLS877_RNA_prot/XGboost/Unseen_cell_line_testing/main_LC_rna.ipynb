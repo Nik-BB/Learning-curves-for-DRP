{
 "cells": [
  {
   "cell_type": "code",
   "execution_count": 1,
   "metadata": {},
   "outputs": [],
   "source": [
    "import numpy as np\n",
    "import pandas as pd\n",
    "import matplotlib.pyplot as plt\n",
    "import sklearn\n",
    "import sys\n",
    "import os\n",
    "import xgboost as xgb \n",
    "from importlib import reload\n",
    "from sklearn.preprocessing import StandardScaler\n",
    "from sklearn.model_selection import train_test_split\n",
    "from sklearn.metrics import r2_score\n",
    "from sklearn.model_selection import ParameterGrid\n",
    "from sklearn.metrics import mean_squared_error\n",
    "from collections import namedtuple\n",
    "import time\n",
    "import pickle\n",
    "import scipy\n",
    "from sklearn.model_selection import RandomizedSearchCV"
   ]
  },
  {
   "cell_type": "code",
   "execution_count": 2,
   "metadata": {},
   "outputs": [],
   "source": [
    "codebase_path = '/data/home/wpw035/Codebase'\n",
    "sys.path.insert(0, codebase_path) #add path to my codebase models"
   ]
  },
  {
   "cell_type": "code",
   "execution_count": 3,
   "metadata": {},
   "outputs": [
    {
     "data": {
      "text/plain": [
       "<module 'Learning_curve_xgboost' from '/data/home/wpw035/Drug_response_prediction/DRP-alpha-preliminary-results/XGboost/Unseen_cell_line_testing/Learning_curve_xgboost.py'>"
      ]
     },
     "execution_count": 3,
     "metadata": {},
     "output_type": "execute_result"
    }
   ],
   "source": [
    "#my moudles\n",
    "from DRP_utils import data_preprocessing as dp_nb\n",
    "reload(dp_nb)\n",
    "\n",
    "from DRP_utils import testing as t_nb\n",
    "reload(t_nb)\n",
    "import Data_imports as di_nb\n",
    "reload(di_nb)\n",
    "import pairs_train_test_split as  tts_nb\n",
    "reload(tts_nb)\n",
    "\n",
    "import Learning_curve_xgboost as lc_nb\n",
    "reload(lc_nb)\n"
   ]
  },
  {
   "cell_type": "code",
   "execution_count": 4,
   "metadata": {},
   "outputs": [
    {
     "name": "stderr",
     "output_type": "stream",
     "text": [
      "/data/home/wpw035/.conda/envs/xgboostenv/lib/python3.7/site-packages/pandas/util/_decorators.py:311: ParserWarning: Falling back to the 'python' engine because the 'c' engine does not support skipfooter; you can avoid this warning by specifying engine='python'.\n",
      "  return func(*args, **kwargs)\n"
     ]
    },
    {
     "name": "stdout",
     "output_type": "stream",
     "text": [
      "Number of missing prot values 0.386335609896865\n",
      "num non overlapping prot and target cls: 10\n",
      "num non overlapping rna prot and target cls: 91\n"
     ]
    }
   ],
   "source": [
    "#read in data\n",
    "prot, rna, one_hot_cls, one_hot_drugs, ic50_df1 = di_nb.read_input_data()\n",
    "_all_cls = prot.index\n",
    "_all_drugs = ic50_df1.columns"
   ]
  },
  {
   "cell_type": "code",
   "execution_count": 5,
   "metadata": {},
   "outputs": [
    {
     "data": {
      "text/plain": [
       "((877, 8457), (877, 17417), (877, 877), (345, 345))"
      ]
     },
     "execution_count": 5,
     "metadata": {},
     "output_type": "execute_result"
    }
   ],
   "source": [
    "prot.shape, rna.shape, one_hot_cls.shape, one_hot_drugs.shape"
   ]
  },
  {
   "cell_type": "markdown",
   "metadata": {},
   "source": [
    "## Feature selection (FS) and creating data for each drug"
   ]
  },
  {
   "cell_type": "markdown",
   "metadata": {},
   "source": [
    "### RNA FS"
   ]
  },
  {
   "cell_type": "code",
   "execution_count": 6,
   "metadata": {
    "scrolled": true
   },
   "outputs": [
    {
     "data": {
      "text/plain": [
       "((263375, 908), (263375, 345), 263375)"
      ]
     },
     "execution_count": 6,
     "metadata": {},
     "output_type": "execute_result"
    }
   ],
   "source": [
    "#read in landmark genes for fs and find landmarks that overlap with rna data\n",
    "landmark_genes = pd.read_csv(\n",
    "    f'{codebase_path}/downloaded_data_small/landmark_genes_LINCS.txt',sep='\\t')\n",
    "landmark_genes.index = landmark_genes['Symbol']\n",
    "\n",
    "dft = pd.DataFrame(rna.columns.dropna())\n",
    "dft.index = rna.columns.dropna()\n",
    "dft = dft[dft.duplicated() == False]\n",
    "\n",
    "overlapping_landmarks, _ = dp_nb.keep_overlapping(\n",
    "    pd.DataFrame(landmark_genes['Symbol']), dft)\n",
    "\n",
    "overlapping_landmarks = overlapping_landmarks['Symbol'].values\n",
    "\n",
    "#create input data for each drug\n",
    "x_all, x_drug, y_list = dp_nb.create_all_drugs(\n",
    "    rna[overlapping_landmarks], one_hot_drugs, ic50_df1, _all_cls)\n",
    "\n",
    "x_all = x_all.astype(np.float32)\n",
    "x_drug = x_drug.astype(np.float16)\n",
    "\n",
    "#fmt index to include drug cell line paris\n",
    "cls_drugs_index = x_all.index + '::' + x_drug.index\n",
    "x_all.index = cls_drugs_index\n",
    "x_drug.index = cls_drugs_index\n",
    "y_list.index = cls_drugs_index\n",
    "\n",
    "x_all.shape, x_drug.shape, len(y_list)"
   ]
  },
  {
   "cell_type": "markdown",
   "metadata": {},
   "source": [
    "### Prot FS"
   ]
  },
  {
   "cell_type": "code",
   "execution_count": 7,
   "metadata": {},
   "outputs": [],
   "source": [
    "#use the same landmark genes, that were used for fs for rna data\n",
    "#for fs with prot data\n",
    "#find overlapping landmark genes and prot features\n",
    "dft = pd.DataFrame(prot.columns.dropna())\n",
    "dft.index = prot.columns.dropna()\n",
    "dft = dft[dft.duplicated() == False]\n",
    "\n",
    "overlapping_landmarks, _ = dp_nb.keep_overlapping(\n",
    "    pd.DataFrame(landmark_genes['Symbol']), dft)\n",
    "\n",
    "overlapping_landmarks = overlapping_landmarks['Symbol'].values\n",
    "\n",
    "#create prot data for all drugs\n",
    "x_all_prot, x_drug, y_list = dp_nb.create_all_drugs(\n",
    "    prot[overlapping_landmarks], one_hot_drugs, ic50_df1, _all_cls)\n",
    "\n",
    "#fmt index to include drug cell line paris\n",
    "cls_drugs_index = x_all_prot.index + '::' + x_drug.index \n",
    "x_all_prot.index = cls_drugs_index\n",
    "y_list.index = cls_drugs_index\n",
    "x_drug.index = cls_drugs_index\n",
    "\n",
    "x_all_prot = x_all_prot.astype(np.float32)"
   ]
  },
  {
   "cell_type": "markdown",
   "metadata": {},
   "source": [
    "### Create one hot data for all drugs"
   ]
  },
  {
   "cell_type": "code",
   "execution_count": 8,
   "metadata": {},
   "outputs": [],
   "source": [
    "x_hot, x_drug_hot, y_hot = dp_nb.create_all_drugs(\n",
    "    one_hot_cls, one_hot_drugs, ic50_df1, _all_cls)\n",
    "\n",
    "cls_drugs_index_hot = x_hot.index + '::' + x_drug_hot.index \n",
    "\n",
    "x_hot.index = cls_drugs_index_hot\n",
    "x_hot.columns = np.arange(len(x_drug.columns) , len(x_hot.columns) + len(x_drug.columns))"
   ]
  },
  {
   "cell_type": "markdown",
   "metadata": {},
   "source": [
    "# set hyper parm search space"
   ]
  },
  {
   "cell_type": "code",
   "execution_count": 9,
   "metadata": {},
   "outputs": [],
   "source": [
    "\n",
    "params = { 'max_depth': [3, 5, 6, 10, 15, 20],\n",
    "           'learning_rate': [0.1, 0.2, 0.3],\n",
    "           'subsample':[0.7, 0.8, 0.9, 1.0],\n",
    "           'colsample_bytree':[ 0.4, 0.6, 0.8, 1.0],\n",
    "           'n_estimators': [25000]}\n",
    "\n",
    "\n",
    "\n",
    "parm_grid = sklearn.model_selection.ParameterGrid(params)\n",
    "x_hot = x_hot.astype(np.float32)"
   ]
  },
  {
   "cell_type": "markdown",
   "metadata": {},
   "source": [
    "# Learning curves "
   ]
  },
  {
   "cell_type": "code",
   "execution_count": 10,
   "metadata": {
    "scrolled": true
   },
   "outputs": [
    {
     "name": "stdout",
     "output_type": "stream",
     "text": [
      "Fraction of cls in sets, relative to all clsbefore mising values are removed\n",
      "train fraction 0.7993158494868872, test fraction 0.10034207525655645,validaiton fraciton 0.10034207525655645\n",
      "------\n",
      "Fraction of cls in sets, relative to all cl drug pairs, aftermising values are removed\n",
      "train fraction 0.6972253895857089, test fraction0.08817939946788293, validaiton fraciton 0.0850693239469205\n"
     ]
    },
    {
     "data": {
      "text/plain": [
       "array([     2,      3,      4,      5,      6,      8,     10,     13,\n",
       "           16,     20,     26,     33,     42,     53,     67,     85,\n",
       "          108,    136,    173,    219,    277,    350,    443,    560,\n",
       "          708,    896,   1133,   1433,   1813,   2293,   2900,   3668,\n",
       "         4638,   5866,   7419,   9383,  11867,  15008,  18980,  24004,\n",
       "        30358,  38393,  48555,  61407,  77660,  98216, 124212, 157089,\n",
       "       198668, 210956])"
      ]
     },
     "execution_count": 10,
     "metadata": {},
     "output_type": "execute_result"
    }
   ],
   "source": [
    "#just to get train size\n",
    "rand_seed = 1\n",
    "pairs_with_truth_vals =  y_list.index\n",
    "train_pairs, test_pairs, val_pairs = tts_nb.split(\n",
    "    rand_seed, _all_cls, _all_drugs, pairs_with_truth_vals)\n",
    "\n",
    "#rna test train selection\n",
    "x_train_rna, x_test_rna = x_all.loc[train_pairs], x_all.loc[test_pairs]\n",
    "\n",
    "#set train size search space. \n",
    "lg_space = np.logspace(1, 17.6, base=2.0).astype(int)\n",
    "lg_space = np.append(lg_space, len(x_train_rna))\n",
    "lg_space = np.unique(lg_space)\n",
    "lg_space"
   ]
  },
  {
   "cell_type": "markdown",
   "metadata": {},
   "source": [
    "# Learning curve runs"
   ]
  },
  {
   "cell_type": "code",
   "execution_count": null,
   "metadata": {
    "scrolled": true
   },
   "outputs": [
    {
     "name": "stdout",
     "output_type": "stream",
     "text": [
      "run 10 of 20\n",
      "Fraction of cls in sets, relative to all clsbefore mising values are removed\n",
      "train fraction 0.7993158494868872, test fraction 0.10034207525655645,validaiton fraciton 0.10034207525655645\n",
      "------\n",
      "Fraction of cls in sets, relative to all cl drug pairs, aftermising values are removed\n",
      "train fraction 0.6958603936344256, test fraction0.08651694677176805, validaiton fraciton 0.08809677259431857\n",
      "1 of 50 train sizes\n"
     ]
    },
    {
     "name": "stderr",
     "output_type": "stream",
     "text": [
      "/data/home/wpw035/.conda/envs/xgboostenv/lib/python3.7/site-packages/scipy/stats/stats.py:4023: PearsonRConstantInputWarning: An input array is constant; the correlation coefficient is not defined.\n",
      "  warnings.warn(PearsonRConstantInputWarning())\n"
     ]
    },
    {
     "name": "stdout",
     "output_type": "stream",
     "text": [
      "2 of 50 train sizes\n",
      "3 of 50 train sizes\n",
      "4 of 50 train sizes\n",
      "5 of 50 train sizes\n",
      "6 of 50 train sizes\n"
     ]
    }
   ],
   "source": [
    "#rna\n",
    "#finds a test train split then finds the learning curve\n",
    "#for that split. Repeats for mutiple (N) test train splits \n",
    "N = 20\n",
    "\n",
    "t1 = time.time()\n",
    "for run in range(N):\n",
    "    run = run + 10\n",
    "    print(f'run {run} of {N}')\n",
    "    #test train split\n",
    "    rand_seed = 42 + run\n",
    "    pairs_with_truth_vals =  y_list.index\n",
    "    train_pairs, test_pairs, val_pairs = tts_nb.split(\n",
    "        rand_seed, _all_cls, _all_drugs, pairs_with_truth_vals)\n",
    "\n",
    "    #rna test train selection\n",
    "    x_train_rna, x_test_rna = x_all.loc[train_pairs], x_all.loc[test_pairs]\n",
    "    x_val_rna = x_all.loc[val_pairs]\n",
    "    y_train, y_test = y_list[train_pairs], y_list[test_pairs]\n",
    "    y_val = y_list[val_pairs]\n",
    "    xdrug_train, xdrug_test = x_drug.loc[train_pairs], x_drug.loc[test_pairs]\n",
    "    xdrug_val = x_drug.loc[val_pairs]\n",
    "\n",
    "    #prot test train selection\n",
    "    x_train_prot, x_test_prot = x_all_prot.loc[train_pairs], x_all_prot.loc[test_pairs]\n",
    "    x_val_prot = x_all_prot.loc[val_pairs]\n",
    "\n",
    "    #one hot test train seleciton\n",
    "    x_train_hot, x_test_hot = x_hot.loc[train_pairs], x_hot.loc[test_pairs]\n",
    "    x_val_hot = x_hot.loc[val_pairs]\n",
    "    \n",
    "    #concat of omic and drug data\n",
    "    x_train_rna = pd.concat((x_train_rna, xdrug_train), axis=1)\n",
    "    x_val_rna = pd.concat((x_val_rna, xdrug_val), axis=1)\n",
    "    x_test_rna = pd.concat((x_test_rna, xdrug_test), axis=1)\n",
    "    \n",
    "    x_train_prot = pd.concat((x_train_prot, xdrug_train), axis=1)\n",
    "    x_val_prot = pd.concat((x_val_prot, xdrug_val), axis=1)\n",
    "    x_test_prot = pd.concat((x_test_prot, xdrug_test), axis=1)\n",
    "    \n",
    "    x_train_hot = pd.concat((x_train_hot, xdrug_train), axis=1)\n",
    "    x_val_hot = pd.concat((x_val_hot, xdrug_val), axis=1)\n",
    "    x_test_hot = pd.concat((x_test_hot, xdrug_test), axis=1)\n",
    "\n",
    "    #consistencey checks\n",
    "    assert (x_train_hot.index == x_train_rna.index).all()\n",
    "    assert (x_test_hot.index == x_test_rna.index).all()\n",
    "    assert (x_val_hot.index == x_val_rna.index).all()\n",
    "\n",
    "    assert (x_train_prot.index == x_train_rna.index).all()\n",
    "    assert (x_test_prot.index == x_test_rna.index).all()\n",
    "    assert (x_val_prot.index == x_val_rna.index).all()\n",
    "\n",
    "    assert (y_train.index == x_train_rna.index).all()\n",
    "    assert (y_test.index == x_test_rna.index).all()\n",
    "    assert (xdrug_test.index == x_test_rna.index).all()\n",
    "\n",
    "    #inconsistencey checks\n",
    "    assert x_train_rna.shape[1] != x_train_prot.shape[1]\n",
    "    assert x_test_rna.shape[1] != x_test_prot.shape[1]\n",
    "    assert x_val_rna.shape[1] != x_val_prot.shape[1]\n",
    "\n",
    "    assert x_train_rna.shape[1] != x_train_hot.shape[1]\n",
    "    assert x_test_rna.shape[1] != x_test_hot.shape[1]\n",
    "    assert x_val_rna.shape[1] != x_val_hot.shape[1]\n",
    "\n",
    "    assert x_train_prot.shape[1] != x_train_hot.shape[1]\n",
    "    assert x_test_prot.shape[1] != x_test_hot.shape[1]\n",
    "    \n",
    "    del x_train_prot, x_val_prot, x_test_prot\n",
    "    del x_train_hot, x_val_hot, x_test_hot\n",
    "   \n",
    "    data_type = 'RNA'\n",
    "    model_path = f'optimal-models/{data_type}/run{run}model_train_size_'\n",
    "    mse_r2_rna, bms, bhps = lc_nb.run_lc_xg_ucl(\n",
    "        model_func=xgb.XGBRegressor,\n",
    "        param_grid = parm_grid,\n",
    "        xtrain=x_train_rna, \n",
    "        ytrain=y_train, \n",
    "        xval=x_val_rna, \n",
    "        yval=y_val, \n",
    "        xtest=x_test_rna,\n",
    "        ytest=y_test, \n",
    "        train_sizes = lg_space, \n",
    "        num_trails=15,\n",
    "        es_rounds=500,\n",
    "        model_save_path=model_path\n",
    ")\n",
    "    \n",
    "    #save data\n",
    "    #--------- Dont overwrite existing data ------------\n",
    "    mse_r2_rna.to_csv(f'LC-metric-results/{data_type}/run{run}')\n",
    "    d = {}\n",
    "    for hp in bhps:\n",
    "        for k, v in hp.items():\n",
    "            if k in d.keys():\n",
    "                d[k].append(v)\n",
    "            else:\n",
    "                d[k] = [v]\n",
    "    bhps_df = pd.DataFrame(d)\n",
    "    bhps_df.to_csv(f'Optimal-hyperparameters/{data_type}/run{run}df')\n",
    "    with open(f'Optimal-hyperparameters/{data_type}/run{run}.pkl', 'wb') as f:\n",
    "        pickle.dump(bhps, f)\n",
    "    np.savetxt(f'test_train_cls/{data_type}/train_pairs{run}', train_pairs, fmt='%s')\n",
    "    np.savetxt(f'test_train_cls/{data_type}/test_pairs{run}', test_pairs, fmt='%s')\n",
    "    np.savetxt(f'test_train_cls/{data_type}/val_pairs{run}', val_pairs, fmt='%s')\n",
    "    \n",
    "    del bms, bhps\n",
    "    \n",
    "    "
   ]
  },
  {
   "cell_type": "markdown",
   "metadata": {},
   "source": [
    "## Load in the HP's and create models form that"
   ]
  },
  {
   "cell_type": "code",
   "execution_count": 34,
   "metadata": {},
   "outputs": [],
   "source": [
    "hp_path = 'Optimal-hyperparameters/RNA/'\n",
    "tt_path = 'test_train_cls/RNA/'"
   ]
  },
  {
   "cell_type": "code",
   "execution_count": 24,
   "metadata": {},
   "outputs": [
    {
     "data": {
      "text/plain": [
       "Unnamed: 0                49\n",
       "subsample                1.0\n",
       "n_estimators           25000\n",
       "max_depth                 15\n",
       "learning_rate            0.3\n",
       "colsample_bytree         0.4\n",
       "tree_method         gpu_hist\n",
       "stopped n tree           240\n",
       "Name: 49, dtype: object"
      ]
     },
     "execution_count": 24,
     "metadata": {},
     "output_type": "execute_result"
    }
   ],
   "source": [
    "hps_imp"
   ]
  },
  {
   "cell_type": "code",
   "execution_count": 15,
   "metadata": {
    "scrolled": true
   },
   "outputs": [],
   "source": [
    "prms = ['subsample', 'max_depth', 'stopped n tree']\n",
    "hps_imp = pd.read_csv(f'{hp_path}/run0df').iloc[-1]"
   ]
  },
  {
   "cell_type": "code",
   "execution_count": 29,
   "metadata": {},
   "outputs": [],
   "source": [
    "hps_imp = pd.read_csv(f'{hp_path}/run0df').iloc[-1]\n",
    "prms = {'subsample': None, 'max_depth': None, 'learning_rate': None, \n",
    "        'colsample_bytree': None, 'tree_method': None }\n",
    "\n",
    "prms['subsample'] = hps_imp['subsample']\n",
    "prms['max_depth'] = hps_imp['max_depth']\n",
    "prms['learning_rate'] = hps_imp['learning_rate']\n",
    "prms['tree_method'] = hps_imp['tree_method']\n",
    "prms['colsample_bytree'] = hps_imp['colsample_bytree']"
   ]
  },
  {
   "cell_type": "code",
   "execution_count": 30,
   "metadata": {},
   "outputs": [
    {
     "data": {
      "text/plain": [
       "Unnamed: 0                49\n",
       "subsample                1.0\n",
       "n_estimators           25000\n",
       "max_depth                 15\n",
       "learning_rate            0.3\n",
       "colsample_bytree         0.4\n",
       "tree_method         gpu_hist\n",
       "stopped n tree           240\n",
       "Name: 49, dtype: object"
      ]
     },
     "execution_count": 30,
     "metadata": {},
     "output_type": "execute_result"
    }
   ],
   "source": [
    "hps_imp"
   ]
  },
  {
   "cell_type": "code",
   "execution_count": 32,
   "metadata": {},
   "outputs": [
    {
     "data": {
      "text/plain": [
       "XGBRegressor(colsample_bytree=0.4, learning_rate=0.3, max_depth=15,\n",
       "             subsample=1.0, tree_method='gpu_hist')"
      ]
     },
     "execution_count": 32,
     "metadata": {},
     "output_type": "execute_result"
    }
   ],
   "source": [
    "xgb.XGBRegressor(**prms)"
   ]
  },
  {
   "cell_type": "code",
   "execution_count": 49,
   "metadata": {},
   "outputs": [
    {
     "data": {
      "text/plain": [
       "Unnamed: 0                49\n",
       "subsample                1.0\n",
       "n_estimators           25000\n",
       "max_depth                 15\n",
       "learning_rate            0.3\n",
       "colsample_bytree         0.4\n",
       "tree_method         gpu_hist\n",
       "stopped n tree           240\n",
       "Name: 49, dtype: object"
      ]
     },
     "execution_count": 49,
     "metadata": {},
     "output_type": "execute_result"
    }
   ],
   "source": [
    "hps_imp"
   ]
  },
  {
   "cell_type": "code",
   "execution_count": 50,
   "metadata": {
    "scrolled": true
   },
   "outputs": [
    {
     "name": "stdout",
     "output_type": "stream",
     "text": [
      "[17:14:27] WARNING: /opt/conda/conda-bld/xgboost_1560800456086/work/src/objective/regression_obj.cu:152: reg:linear is now deprecated in favor of reg:squarederror.\n"
     ]
    },
    {
     "name": "stderr",
     "output_type": "stream",
     "text": [
      "/data/home/wpw035/.conda/envs/xgboostenv/lib/python3.7/site-packages/pandas/util/_decorators.py:311: ParserWarning: Falling back to the 'python' engine because the 'c' engine does not support regex separators (separators > 1 char and different from '\\s+' are interpreted as regex); you can avoid this warning by specifying engine='python'.\n",
      "  return func(*args, **kwargs)\n"
     ]
    },
    {
     "name": "stdout",
     "output_type": "stream",
     "text": [
      "[17:15:08] WARNING: /opt/conda/conda-bld/xgboost_1560800456086/work/src/objective/regression_obj.cu:152: reg:linear is now deprecated in favor of reg:squarederror.\n"
     ]
    }
   ],
   "source": [
    "test_results = {'r2': [], 'mse': [], 'rho' : []}\n",
    "_input_shape = x_all.shape[1]\n",
    "for run in range(0, 2):\n",
    "    \n",
    "    train_pairs = pd.read_csv(f'{tt_path}train_pairs{run}', dtype=str, \n",
    "                          delimiter='/n',header=None)\n",
    "    test_pairs = pd.read_csv(f'{tt_path}test_pairs{run}', dtype=str, \n",
    "                          delimiter='/n',header=None)\n",
    "    val_pairs = pd.read_csv(f'{tt_path}val_pairs{run}', dtype=str, \n",
    "                          delimiter='/n',header=None)\n",
    "    train_pairs = train_pairs[0].values\n",
    "    test_pairs = test_pairs[0].values\n",
    "    val_pairs  = val_pairs[0].values\n",
    "\n",
    "    #rna test train selection\n",
    "    x_train_rna, x_test_rna = x_all.loc[train_pairs], x_all.loc[test_pairs]\n",
    "    x_val_rna = x_all.loc[val_pairs]\n",
    "    y_train, y_test = y_list[train_pairs], y_list[test_pairs]\n",
    "    y_val = y_list[val_pairs]\n",
    "    xdrug_train, xdrug_test = x_drug.loc[train_pairs], x_drug.loc[test_pairs]\n",
    "    xdrug_val = x_drug.loc[val_pairs]\n",
    "    \n",
    "    #concat of omic and drug data\n",
    "    x_train_rna = pd.concat((x_train_rna, xdrug_train), axis=1)\n",
    "    x_val_rna = pd.concat((x_val_rna, xdrug_val), axis=1)\n",
    "    x_test_rna = pd.concat((x_test_rna, xdrug_test), axis=1)\n",
    "    \n",
    "    hps_imp = pd.read_csv(f'{hp_path}/run{run}df').iloc[-1]\n",
    "    prms = {'n_estimators': None, 'subsample': None, 'max_depth': None, \n",
    "            'learning_rate': None, 'colsample_bytree': None, \n",
    "            'tree_method': None}\n",
    "    \n",
    "    prms['n_estimators'] = hps_imp['stopped n tree']\n",
    "    prms['subsample'] = hps_imp['subsample']\n",
    "    prms['max_depth'] = hps_imp['max_depth']\n",
    "    prms['learning_rate'] = hps_imp['learning_rate']\n",
    "    prms['tree_method'] = hps_imp['tree_method']\n",
    "    prms['colsample_bytree'] = hps_imp['colsample_bytree']\n",
    "    \n",
    "    model = xgb.XGBRegressor(**prms, verbose=2)\n",
    "    model.fit(x_train_rna, y_train, verbose=2)\n",
    "    \n",
    "    #make predctions using the opt model\n",
    "    pre = model.predict(x_test_rna)\n",
    "    pre = pre.reshape(len(pre))\n",
    "    test_results['rho'].append(scipy.stats.pearsonr(y_test, pre))\n",
    "    test_results['r2'].append(sklearn.metrics.r2_score(y_test, pre))\n",
    "    test_results['mse'].append(sklearn.metrics.mean_squared_error(y_test, pre))\n",
    "\n"
   ]
  },
  {
   "cell_type": "code",
   "execution_count": 51,
   "metadata": {},
   "outputs": [
    {
     "data": {
      "text/plain": [
       "{'r2': [0.7689390890268537, 0.747197547409673],\n",
       " 'mse': [1.5920149452193704, 1.736735604226418],\n",
       " 'rho': [(0.8775633455998716, 0.0), (0.8647981887635823, 0.0)]}"
      ]
     },
     "execution_count": 51,
     "metadata": {},
     "output_type": "execute_result"
    }
   ],
   "source": [
    "test_results"
   ]
  },
  {
   "cell_type": "code",
   "execution_count": 52,
   "metadata": {},
   "outputs": [],
   "source": [
    "imp = pd.read_csv(f'LC-metric-results/RNA/run{run}').iloc[-1]\n"
   ]
  },
  {
   "cell_type": "code",
   "execution_count": 53,
   "metadata": {},
   "outputs": [
    {
     "data": {
      "text/plain": [
       "Unnamed: 0                          49\n",
       "r2                            0.770775\n",
       "mse                           1.574758\n",
       "rho           (0.877963835892748, 0.0)\n",
       "train size                      210956\n",
       "Name: 49, dtype: object"
      ]
     },
     "execution_count": 53,
     "metadata": {},
     "output_type": "execute_result"
    }
   ],
   "source": [
    "imp"
   ]
  },
  {
   "cell_type": "code",
   "execution_count": 47,
   "metadata": {
    "scrolled": true
   },
   "outputs": [
    {
     "data": {
      "text/html": [
       "<div>\n",
       "<style scoped>\n",
       "    .dataframe tbody tr th:only-of-type {\n",
       "        vertical-align: middle;\n",
       "    }\n",
       "\n",
       "    .dataframe tbody tr th {\n",
       "        vertical-align: top;\n",
       "    }\n",
       "\n",
       "    .dataframe thead th {\n",
       "        text-align: right;\n",
       "    }\n",
       "</style>\n",
       "<table border=\"1\" class=\"dataframe\">\n",
       "  <thead>\n",
       "    <tr style=\"text-align: right;\">\n",
       "      <th></th>\n",
       "      <th>r2</th>\n",
       "      <th>mse</th>\n",
       "      <th>rho</th>\n",
       "      <th>train size</th>\n",
       "    </tr>\n",
       "  </thead>\n",
       "  <tbody>\n",
       "    <tr>\n",
       "      <th>0</th>\n",
       "      <td>-0.004357</td>\n",
       "      <td>6.920044</td>\n",
       "      <td>(nan, nan)</td>\n",
       "      <td>2</td>\n",
       "    </tr>\n",
       "    <tr>\n",
       "      <th>1</th>\n",
       "      <td>-0.005895</td>\n",
       "      <td>6.930637</td>\n",
       "      <td>(nan, nan)</td>\n",
       "      <td>3</td>\n",
       "    </tr>\n",
       "    <tr>\n",
       "      <th>2</th>\n",
       "      <td>-0.006971</td>\n",
       "      <td>6.938050</td>\n",
       "      <td>(0.009663056914140445, 0.11609885106630216)</td>\n",
       "      <td>4</td>\n",
       "    </tr>\n",
       "    <tr>\n",
       "      <th>3</th>\n",
       "      <td>-0.017965</td>\n",
       "      <td>7.013802</td>\n",
       "      <td>(0.012182191566876558, 0.047587017940044274)</td>\n",
       "      <td>5</td>\n",
       "    </tr>\n",
       "    <tr>\n",
       "      <th>4</th>\n",
       "      <td>-0.014707</td>\n",
       "      <td>6.991357</td>\n",
       "      <td>(0.07200948093525227, 9.513425068616156e-32)</td>\n",
       "      <td>6</td>\n",
       "    </tr>\n",
       "    <tr>\n",
       "      <th>5</th>\n",
       "      <td>-0.037337</td>\n",
       "      <td>7.147276</td>\n",
       "      <td>(-0.003576472605742363, 0.5608513453277653)</td>\n",
       "      <td>8</td>\n",
       "    </tr>\n",
       "    <tr>\n",
       "      <th>6</th>\n",
       "      <td>-0.029694</td>\n",
       "      <td>7.094614</td>\n",
       "      <td>(0.06258163820714584, 2.2786755007316658e-24)</td>\n",
       "      <td>10</td>\n",
       "    </tr>\n",
       "    <tr>\n",
       "      <th>7</th>\n",
       "      <td>-0.050359</td>\n",
       "      <td>7.236998</td>\n",
       "      <td>(0.09878673592373222, 2.4201421325047325e-58)</td>\n",
       "      <td>13</td>\n",
       "    </tr>\n",
       "    <tr>\n",
       "      <th>8</th>\n",
       "      <td>-0.066329</td>\n",
       "      <td>7.347034</td>\n",
       "      <td>(0.05441971711798878, 8.306027516273274e-19)</td>\n",
       "      <td>16</td>\n",
       "    </tr>\n",
       "    <tr>\n",
       "      <th>9</th>\n",
       "      <td>-0.043543</td>\n",
       "      <td>7.190037</td>\n",
       "      <td>(0.011842072473194642, 0.05413875967585241)</td>\n",
       "      <td>20</td>\n",
       "    </tr>\n",
       "    <tr>\n",
       "      <th>10</th>\n",
       "      <td>-0.081789</td>\n",
       "      <td>7.453554</td>\n",
       "      <td>(0.013467563045587428, 0.02851843953837305)</td>\n",
       "      <td>26</td>\n",
       "    </tr>\n",
       "    <tr>\n",
       "      <th>11</th>\n",
       "      <td>-0.039073</td>\n",
       "      <td>7.159240</td>\n",
       "      <td>(0.017709129321417917, 0.003977585483589509)</td>\n",
       "      <td>33</td>\n",
       "    </tr>\n",
       "    <tr>\n",
       "      <th>12</th>\n",
       "      <td>-0.130002</td>\n",
       "      <td>7.785740</td>\n",
       "      <td>(0.0611512093719254, 2.4418957620345648e-23)</td>\n",
       "      <td>42</td>\n",
       "    </tr>\n",
       "    <tr>\n",
       "      <th>13</th>\n",
       "      <td>-0.123414</td>\n",
       "      <td>7.740348</td>\n",
       "      <td>(-0.011568137305163855, 0.059948103693318995)</td>\n",
       "      <td>53</td>\n",
       "    </tr>\n",
       "    <tr>\n",
       "      <th>14</th>\n",
       "      <td>-0.073396</td>\n",
       "      <td>7.395726</td>\n",
       "      <td>(0.09296741025139868, 7.531943469696026e-52)</td>\n",
       "      <td>67</td>\n",
       "    </tr>\n",
       "    <tr>\n",
       "      <th>15</th>\n",
       "      <td>-0.051510</td>\n",
       "      <td>7.244930</td>\n",
       "      <td>(0.04518336993761554, 1.965974261646234e-13)</td>\n",
       "      <td>85</td>\n",
       "    </tr>\n",
       "    <tr>\n",
       "      <th>16</th>\n",
       "      <td>-0.196916</td>\n",
       "      <td>8.246781</td>\n",
       "      <td>(0.030993386807140005, 4.628826734091913e-07)</td>\n",
       "      <td>108</td>\n",
       "    </tr>\n",
       "    <tr>\n",
       "      <th>17</th>\n",
       "      <td>-0.217791</td>\n",
       "      <td>8.390608</td>\n",
       "      <td>(-0.003751382062588433, 0.5418485515504571)</td>\n",
       "      <td>136</td>\n",
       "    </tr>\n",
       "    <tr>\n",
       "      <th>18</th>\n",
       "      <td>-0.139565</td>\n",
       "      <td>7.851626</td>\n",
       "      <td>(0.04620306831669454, 5.5976954464868383e-14)</td>\n",
       "      <td>173</td>\n",
       "    </tr>\n",
       "    <tr>\n",
       "      <th>19</th>\n",
       "      <td>-0.035403</td>\n",
       "      <td>7.133953</td>\n",
       "      <td>(0.11635002059663016, 2.297333757139624e-80)</td>\n",
       "      <td>219</td>\n",
       "    </tr>\n",
       "    <tr>\n",
       "      <th>20</th>\n",
       "      <td>-0.087793</td>\n",
       "      <td>7.494918</td>\n",
       "      <td>(0.05424583451651164, 1.0704509995973276e-18)</td>\n",
       "      <td>277</td>\n",
       "    </tr>\n",
       "    <tr>\n",
       "      <th>21</th>\n",
       "      <td>-0.043173</td>\n",
       "      <td>7.187485</td>\n",
       "      <td>(0.08292340900831985, 1.4110769129573348e-41)</td>\n",
       "      <td>350</td>\n",
       "    </tr>\n",
       "    <tr>\n",
       "      <th>22</th>\n",
       "      <td>0.018175</td>\n",
       "      <td>6.764794</td>\n",
       "      <td>(0.2100268679648198, 2.10727644124001e-261)</td>\n",
       "      <td>443</td>\n",
       "    </tr>\n",
       "    <tr>\n",
       "      <th>23</th>\n",
       "      <td>-0.092717</td>\n",
       "      <td>7.528843</td>\n",
       "      <td>(0.09712168266291357, 1.9157998386167616e-56)</td>\n",
       "      <td>560</td>\n",
       "    </tr>\n",
       "    <tr>\n",
       "      <th>24</th>\n",
       "      <td>-0.016256</td>\n",
       "      <td>7.002030</td>\n",
       "      <td>(0.11658614667628107, 1.0969349090901412e-80)</td>\n",
       "      <td>708</td>\n",
       "    </tr>\n",
       "    <tr>\n",
       "      <th>25</th>\n",
       "      <td>0.349354</td>\n",
       "      <td>4.482964</td>\n",
       "      <td>(0.6088230854808243, 0.0)</td>\n",
       "      <td>896</td>\n",
       "    </tr>\n",
       "    <tr>\n",
       "      <th>26</th>\n",
       "      <td>0.319407</td>\n",
       "      <td>4.689299</td>\n",
       "      <td>(0.5717485334288026, 0.0)</td>\n",
       "      <td>1133</td>\n",
       "    </tr>\n",
       "    <tr>\n",
       "      <th>27</th>\n",
       "      <td>0.280393</td>\n",
       "      <td>4.958109</td>\n",
       "      <td>(0.5619692895874255, 0.0)</td>\n",
       "      <td>1433</td>\n",
       "    </tr>\n",
       "    <tr>\n",
       "      <th>28</th>\n",
       "      <td>0.597911</td>\n",
       "      <td>2.770403</td>\n",
       "      <td>(0.7739617958576336, 0.0)</td>\n",
       "      <td>1813</td>\n",
       "    </tr>\n",
       "    <tr>\n",
       "      <th>29</th>\n",
       "      <td>0.670043</td>\n",
       "      <td>2.273413</td>\n",
       "      <td>(0.8204395142058305, 0.0)</td>\n",
       "      <td>2293</td>\n",
       "    </tr>\n",
       "    <tr>\n",
       "      <th>30</th>\n",
       "      <td>0.660525</td>\n",
       "      <td>2.338987</td>\n",
       "      <td>(0.816625384971243, 0.0)</td>\n",
       "      <td>2900</td>\n",
       "    </tr>\n",
       "    <tr>\n",
       "      <th>31</th>\n",
       "      <td>0.478411</td>\n",
       "      <td>3.593758</td>\n",
       "      <td>(0.6993975788270737, 0.0)</td>\n",
       "      <td>3668</td>\n",
       "    </tr>\n",
       "    <tr>\n",
       "      <th>32</th>\n",
       "      <td>0.708241</td>\n",
       "      <td>2.010227</td>\n",
       "      <td>(0.843925742716119, 0.0)</td>\n",
       "      <td>4638</td>\n",
       "    </tr>\n",
       "    <tr>\n",
       "      <th>33</th>\n",
       "      <td>0.719181</td>\n",
       "      <td>1.934848</td>\n",
       "      <td>(0.849410003585918, 0.0)</td>\n",
       "      <td>5866</td>\n",
       "    </tr>\n",
       "    <tr>\n",
       "      <th>34</th>\n",
       "      <td>0.652929</td>\n",
       "      <td>2.391329</td>\n",
       "      <td>(0.8107634330812444, 0.0)</td>\n",
       "      <td>7419</td>\n",
       "    </tr>\n",
       "    <tr>\n",
       "      <th>35</th>\n",
       "      <td>0.716633</td>\n",
       "      <td>1.952407</td>\n",
       "      <td>(0.8476432780636913, 0.0)</td>\n",
       "      <td>9383</td>\n",
       "    </tr>\n",
       "    <tr>\n",
       "      <th>36</th>\n",
       "      <td>0.755935</td>\n",
       "      <td>1.681611</td>\n",
       "      <td>(0.8708658917311941, 0.0)</td>\n",
       "      <td>11867</td>\n",
       "    </tr>\n",
       "    <tr>\n",
       "      <th>37</th>\n",
       "      <td>0.740497</td>\n",
       "      <td>1.787980</td>\n",
       "      <td>(0.8612428652823217, 0.0)</td>\n",
       "      <td>15008</td>\n",
       "    </tr>\n",
       "    <tr>\n",
       "      <th>38</th>\n",
       "      <td>0.752000</td>\n",
       "      <td>1.708727</td>\n",
       "      <td>(0.8679851846021708, 0.0)</td>\n",
       "      <td>18980</td>\n",
       "    </tr>\n",
       "    <tr>\n",
       "      <th>39</th>\n",
       "      <td>0.752293</td>\n",
       "      <td>1.706708</td>\n",
       "      <td>(0.867923932537693, 0.0)</td>\n",
       "      <td>24004</td>\n",
       "    </tr>\n",
       "    <tr>\n",
       "      <th>40</th>\n",
       "      <td>0.727159</td>\n",
       "      <td>1.879881</td>\n",
       "      <td>(0.8540770050151876, 0.0)</td>\n",
       "      <td>30358</td>\n",
       "    </tr>\n",
       "    <tr>\n",
       "      <th>41</th>\n",
       "      <td>0.769399</td>\n",
       "      <td>1.588847</td>\n",
       "      <td>(0.8775260209855862, 0.0)</td>\n",
       "      <td>38393</td>\n",
       "    </tr>\n",
       "    <tr>\n",
       "      <th>42</th>\n",
       "      <td>0.761858</td>\n",
       "      <td>1.640805</td>\n",
       "      <td>(0.873749070247267, 0.0)</td>\n",
       "      <td>48555</td>\n",
       "    </tr>\n",
       "    <tr>\n",
       "      <th>43</th>\n",
       "      <td>0.745167</td>\n",
       "      <td>1.755807</td>\n",
       "      <td>(0.8640193695493485, 0.0)</td>\n",
       "      <td>61407</td>\n",
       "    </tr>\n",
       "    <tr>\n",
       "      <th>44</th>\n",
       "      <td>0.784448</td>\n",
       "      <td>1.485158</td>\n",
       "      <td>(0.8864038708264481, 0.0)</td>\n",
       "      <td>77660</td>\n",
       "    </tr>\n",
       "    <tr>\n",
       "      <th>45</th>\n",
       "      <td>0.752105</td>\n",
       "      <td>1.708003</td>\n",
       "      <td>(0.8681621419254284, 0.0)</td>\n",
       "      <td>98216</td>\n",
       "    </tr>\n",
       "    <tr>\n",
       "      <th>46</th>\n",
       "      <td>0.778371</td>\n",
       "      <td>1.527030</td>\n",
       "      <td>(0.8830924476358102, 0.0)</td>\n",
       "      <td>124212</td>\n",
       "    </tr>\n",
       "    <tr>\n",
       "      <th>47</th>\n",
       "      <td>0.786235</td>\n",
       "      <td>1.472843</td>\n",
       "      <td>(0.887359935269891, 0.0)</td>\n",
       "      <td>157089</td>\n",
       "    </tr>\n",
       "    <tr>\n",
       "      <th>48</th>\n",
       "      <td>0.759672</td>\n",
       "      <td>1.655868</td>\n",
       "      <td>(0.8723408725470162, 0.0)</td>\n",
       "      <td>198668</td>\n",
       "    </tr>\n",
       "    <tr>\n",
       "      <th>49</th>\n",
       "      <td>0.769589</td>\n",
       "      <td>1.587534</td>\n",
       "      <td>(0.877794029094959, 0.0)</td>\n",
       "      <td>210956</td>\n",
       "    </tr>\n",
       "  </tbody>\n",
       "</table>\n",
       "</div>"
      ],
      "text/plain": [
       "          r2       mse                                            rho  \\\n",
       "0  -0.004357  6.920044                                     (nan, nan)   \n",
       "1  -0.005895  6.930637                                     (nan, nan)   \n",
       "2  -0.006971  6.938050    (0.009663056914140445, 0.11609885106630216)   \n",
       "3  -0.017965  7.013802   (0.012182191566876558, 0.047587017940044274)   \n",
       "4  -0.014707  6.991357   (0.07200948093525227, 9.513425068616156e-32)   \n",
       "5  -0.037337  7.147276    (-0.003576472605742363, 0.5608513453277653)   \n",
       "6  -0.029694  7.094614  (0.06258163820714584, 2.2786755007316658e-24)   \n",
       "7  -0.050359  7.236998  (0.09878673592373222, 2.4201421325047325e-58)   \n",
       "8  -0.066329  7.347034   (0.05441971711798878, 8.306027516273274e-19)   \n",
       "9  -0.043543  7.190037    (0.011842072473194642, 0.05413875967585241)   \n",
       "10 -0.081789  7.453554    (0.013467563045587428, 0.02851843953837305)   \n",
       "11 -0.039073  7.159240   (0.017709129321417917, 0.003977585483589509)   \n",
       "12 -0.130002  7.785740   (0.0611512093719254, 2.4418957620345648e-23)   \n",
       "13 -0.123414  7.740348  (-0.011568137305163855, 0.059948103693318995)   \n",
       "14 -0.073396  7.395726   (0.09296741025139868, 7.531943469696026e-52)   \n",
       "15 -0.051510  7.244930   (0.04518336993761554, 1.965974261646234e-13)   \n",
       "16 -0.196916  8.246781  (0.030993386807140005, 4.628826734091913e-07)   \n",
       "17 -0.217791  8.390608    (-0.003751382062588433, 0.5418485515504571)   \n",
       "18 -0.139565  7.851626  (0.04620306831669454, 5.5976954464868383e-14)   \n",
       "19 -0.035403  7.133953   (0.11635002059663016, 2.297333757139624e-80)   \n",
       "20 -0.087793  7.494918  (0.05424583451651164, 1.0704509995973276e-18)   \n",
       "21 -0.043173  7.187485  (0.08292340900831985, 1.4110769129573348e-41)   \n",
       "22  0.018175  6.764794    (0.2100268679648198, 2.10727644124001e-261)   \n",
       "23 -0.092717  7.528843  (0.09712168266291357, 1.9157998386167616e-56)   \n",
       "24 -0.016256  7.002030  (0.11658614667628107, 1.0969349090901412e-80)   \n",
       "25  0.349354  4.482964                      (0.6088230854808243, 0.0)   \n",
       "26  0.319407  4.689299                      (0.5717485334288026, 0.0)   \n",
       "27  0.280393  4.958109                      (0.5619692895874255, 0.0)   \n",
       "28  0.597911  2.770403                      (0.7739617958576336, 0.0)   \n",
       "29  0.670043  2.273413                      (0.8204395142058305, 0.0)   \n",
       "30  0.660525  2.338987                       (0.816625384971243, 0.0)   \n",
       "31  0.478411  3.593758                      (0.6993975788270737, 0.0)   \n",
       "32  0.708241  2.010227                       (0.843925742716119, 0.0)   \n",
       "33  0.719181  1.934848                       (0.849410003585918, 0.0)   \n",
       "34  0.652929  2.391329                      (0.8107634330812444, 0.0)   \n",
       "35  0.716633  1.952407                      (0.8476432780636913, 0.0)   \n",
       "36  0.755935  1.681611                      (0.8708658917311941, 0.0)   \n",
       "37  0.740497  1.787980                      (0.8612428652823217, 0.0)   \n",
       "38  0.752000  1.708727                      (0.8679851846021708, 0.0)   \n",
       "39  0.752293  1.706708                       (0.867923932537693, 0.0)   \n",
       "40  0.727159  1.879881                      (0.8540770050151876, 0.0)   \n",
       "41  0.769399  1.588847                      (0.8775260209855862, 0.0)   \n",
       "42  0.761858  1.640805                       (0.873749070247267, 0.0)   \n",
       "43  0.745167  1.755807                      (0.8640193695493485, 0.0)   \n",
       "44  0.784448  1.485158                      (0.8864038708264481, 0.0)   \n",
       "45  0.752105  1.708003                      (0.8681621419254284, 0.0)   \n",
       "46  0.778371  1.527030                      (0.8830924476358102, 0.0)   \n",
       "47  0.786235  1.472843                       (0.887359935269891, 0.0)   \n",
       "48  0.759672  1.655868                      (0.8723408725470162, 0.0)   \n",
       "49  0.769589  1.587534                       (0.877794029094959, 0.0)   \n",
       "\n",
       "    train size  \n",
       "0            2  \n",
       "1            3  \n",
       "2            4  \n",
       "3            5  \n",
       "4            6  \n",
       "5            8  \n",
       "6           10  \n",
       "7           13  \n",
       "8           16  \n",
       "9           20  \n",
       "10          26  \n",
       "11          33  \n",
       "12          42  \n",
       "13          53  \n",
       "14          67  \n",
       "15          85  \n",
       "16         108  \n",
       "17         136  \n",
       "18         173  \n",
       "19         219  \n",
       "20         277  \n",
       "21         350  \n",
       "22         443  \n",
       "23         560  \n",
       "24         708  \n",
       "25         896  \n",
       "26        1133  \n",
       "27        1433  \n",
       "28        1813  \n",
       "29        2293  \n",
       "30        2900  \n",
       "31        3668  \n",
       "32        4638  \n",
       "33        5866  \n",
       "34        7419  \n",
       "35        9383  \n",
       "36       11867  \n",
       "37       15008  \n",
       "38       18980  \n",
       "39       24004  \n",
       "40       30358  \n",
       "41       38393  \n",
       "42       48555  \n",
       "43       61407  \n",
       "44       77660  \n",
       "45       98216  \n",
       "46      124212  \n",
       "47      157089  \n",
       "48      198668  \n",
       "49      210956  "
      ]
     },
     "execution_count": 47,
     "metadata": {},
     "output_type": "execute_result"
    }
   ],
   "source": [
    "test_results"
   ]
  },
  {
   "cell_type": "code",
   "execution_count": null,
   "metadata": {},
   "outputs": [],
   "source": []
  }
 ],
 "metadata": {
  "kernelspec": {
   "display_name": "xgboost_env",
   "language": "python",
   "name": "xgboost_env"
  },
  "language_info": {
   "codemirror_mode": {
    "name": "ipython",
    "version": 3
   },
   "file_extension": ".py",
   "mimetype": "text/x-python",
   "name": "python",
   "nbconvert_exporter": "python",
   "pygments_lexer": "ipython3",
   "version": "3.7.13"
  }
 },
 "nbformat": 4,
 "nbformat_minor": 4
}
